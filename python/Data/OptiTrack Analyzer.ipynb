{
 "metadata": {
  "name": ""
 },
 "nbformat": 3,
 "nbformat_minor": 0,
 "worksheets": [
  {
   "cells": [
    {
     "cell_type": "code",
     "collapsed": false,
     "input": [
      "#!/usr/bin/env python\n",
      "#\n",
      "# Pre-processing of OptiTrack data\n",
      "#\n",
      "# by Fernando L. Garcia Bermudez\n",
      "#\n",
      "# v.0.1 alpha\n",
      "#\n",
      "# created on 2012-2-17\n",
      "#\n",
      "\n",
      "import os, glob, csv\n",
      "\n",
      "# Load OptiTrack data from exported csv\n",
      "root = os.path.expanduser('~/Research/Data/tests/optitrack/arena_tile/')\n",
      "name = 'octoroach_test'\n",
      "datareader = csv.reader(open(root + name + '.csv', 'r'), delimiter=',', \\\n",
      "    quotechar='\"', quoting=0)\n",
      "\n",
      "trackable = []\n",
      "frame = []\n",
      "frame_tracked = []\n",
      "other = []\n",
      "for row in datareader:\n",
      "    if row[0] == 'trackable':\n",
      "        trackable.append(row)\n",
      "    elif row[0] == 'frame':\n",
      "        frame.append(row)\n",
      "        if row[3] == '1': # trackable is being tracked\n",
      "            frame_tracked.append(row)\n",
      "    else:\n",
      "        other.append(row)\n",
      "\n",
      "# Write parsed data\n",
      "datawriter = csv.writer(open(root + name + '_frame_tracked.csv', 'wb'))\n",
      "datawriter.writerows(frame_tracked)\n"
     ],
     "language": "python",
     "metadata": {},
     "outputs": [
      {
       "ename": "IOError",
       "evalue": "[Errno 2] No such file or directory: 'C:\\\\Users\\\\Jessica Lee/Research/Data/tests/optitrack/arena_tile/octoroach_test.csv'",
       "output_type": "pyerr",
       "traceback": [
        "\u001b[1;31m---------------------------------------------------------------------------\u001b[0m\n\u001b[1;31mIOError\u001b[0m                                   Traceback (most recent call last)",
        "\u001b[1;32m<ipython-input-1-e0d1116b8646>\u001b[0m in \u001b[0;36m<module>\u001b[1;34m()\u001b[0m\n\u001b[0;32m     15\u001b[0m \u001b[0mroot\u001b[0m \u001b[1;33m=\u001b[0m \u001b[0mos\u001b[0m\u001b[1;33m.\u001b[0m\u001b[0mpath\u001b[0m\u001b[1;33m.\u001b[0m\u001b[0mexpanduser\u001b[0m\u001b[1;33m(\u001b[0m\u001b[1;34m'~/Research/Data/tests/optitrack/arena_tile/'\u001b[0m\u001b[1;33m)\u001b[0m\u001b[1;33m\u001b[0m\u001b[0m\n\u001b[0;32m     16\u001b[0m \u001b[0mname\u001b[0m \u001b[1;33m=\u001b[0m \u001b[1;34m'octoroach_test'\u001b[0m\u001b[1;33m\u001b[0m\u001b[0m\n\u001b[1;32m---> 17\u001b[1;33m \u001b[0mdatareader\u001b[0m \u001b[1;33m=\u001b[0m \u001b[0mcsv\u001b[0m\u001b[1;33m.\u001b[0m\u001b[0mreader\u001b[0m\u001b[1;33m(\u001b[0m\u001b[0mopen\u001b[0m\u001b[1;33m(\u001b[0m\u001b[0mroot\u001b[0m \u001b[1;33m+\u001b[0m \u001b[0mname\u001b[0m \u001b[1;33m+\u001b[0m \u001b[1;34m'.csv'\u001b[0m\u001b[1;33m,\u001b[0m \u001b[1;34m'r'\u001b[0m\u001b[1;33m)\u001b[0m\u001b[1;33m,\u001b[0m \u001b[0mdelimiter\u001b[0m\u001b[1;33m=\u001b[0m\u001b[1;34m','\u001b[0m\u001b[1;33m,\u001b[0m     \u001b[0mquotechar\u001b[0m\u001b[1;33m=\u001b[0m\u001b[1;34m'\"'\u001b[0m\u001b[1;33m,\u001b[0m \u001b[0mquoting\u001b[0m\u001b[1;33m=\u001b[0m\u001b[1;36m0\u001b[0m\u001b[1;33m)\u001b[0m\u001b[1;33m\u001b[0m\u001b[0m\n\u001b[0m\u001b[0;32m     18\u001b[0m \u001b[1;33m\u001b[0m\u001b[0m\n\u001b[0;32m     19\u001b[0m \u001b[0mtrackable\u001b[0m \u001b[1;33m=\u001b[0m \u001b[1;33m[\u001b[0m\u001b[1;33m]\u001b[0m\u001b[1;33m\u001b[0m\u001b[0m\n",
        "\u001b[1;31mIOError\u001b[0m: [Errno 2] No such file or directory: 'C:\\\\Users\\\\Jessica Lee/Research/Data/tests/optitrack/arena_tile/octoroach_test.csv'"
       ]
      }
     ],
     "prompt_number": 1
    },
    {
     "cell_type": "code",
     "collapsed": false,
     "input": [],
     "language": "python",
     "metadata": {},
     "outputs": []
    }
   ],
   "metadata": {}
  }
 ]
}