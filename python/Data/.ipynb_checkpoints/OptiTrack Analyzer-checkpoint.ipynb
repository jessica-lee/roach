{
 "metadata": {
  "name": ""
 },
 "nbformat": 3,
 "nbformat_minor": 0,
 "worksheets": [
  {
   "cells": [
    {
     "cell_type": "code",
     "collapsed": false,
     "input": [
      "#!/usr/bin/env python\n",
      "#\n",
      "# Pre-processing of OptiTrack data\n",
      "#\n",
      "# by Fernando L. Garcia Bermudez\n",
      "#\n",
      "# v.0.1 alpha\n",
      "#\n",
      "# created on 2012-2-17\n",
      "#\n",
      "\n",
      "import os, glob, csv\n",
      "\n",
      "# Load OptiTrack data from exported csv\n",
      "root = os.path.expanduser('~/Research/Data/tests/optitrack/arena_tile/')\n",
      "name = 'octoroach_test'\n",
      "datareader = csv.reader(open(root + name + '.csv', 'r'), delimiter=',', \\\n",
      "    quotechar='\"', quoting=0)\n",
      "\n",
      "trackable = []\n",
      "frame = []\n",
      "frame_tracked = []\n",
      "other = []\n",
      "for row in datareader:\n",
      "    if row[0] == 'trackable':\n",
      "        trackable.append(row)\n",
      "    elif row[0] == 'frame':\n",
      "        frame.append(row)\n",
      "        if row[3] == '1': # trackable is being tracked\n",
      "            frame_tracked.append(row)\n",
      "    else:\n",
      "        other.append(row)\n",
      "\n",
      "# Write parsed data\n",
      "datawriter = csv.writer(open(root + name + '_frame_tracked.csv', 'wb'))\n",
      "datawriter.writerows(frame_tracked)\n"
     ],
     "language": "python",
     "metadata": {},
     "outputs": []
    }
   ],
   "metadata": {}
  }
 ]
}