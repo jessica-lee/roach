{
 "metadata": {
  "name": "",
  "signature": "sha256:4e45475c081c738ea20f848e9b4ce75129ebff8e6f2d4793febdcb44375bcbe5"
 },
 "nbformat": 3,
 "nbformat_minor": 0,
 "worksheets": [
  {
   "cells": [
    {
     "cell_type": "code",
     "collapsed": false,
     "input": [
      "%pylab\n",
      "# Imports\n",
      "import numpy as np\n",
      "import matplotlib.pyplot as plot\n",
      "%matplotlib inline\n",
      "\n",
      "legScale = 95.8738e-6 # 16 bit to radian\n",
      "vref = 3.3 # for voltage conversion\n",
      "vdivide = 3.7/2.7  # for battery scaling\n",
      "vgain = 15.0/47.0  # gain of differential amplifier\n",
      "\n",
      "#acelerometer scale in mpu6000.c set to +- 8g\n",
      "# +- 32768 data\n",
      "xlScale = (1/4096.0) * 9.81\n",
      "\n",
      "# gyro in mpu6000.c scale set to +-2000 degrees per second\n",
      "# +- 32768\n",
      "gyroScale = (1/16.384) * (np.pi/180.0)  \n",
      "\n",
      "length = 16\n",
      "width = 8"
     ],
     "language": "python",
     "metadata": {},
     "outputs": [
      {
       "output_type": "stream",
       "stream": "stdout",
       "text": [
        "Using matplotlib backend: module://IPython.kernel.zmq.pylab.backend_inline\n",
        "Populating the interactive namespace from numpy and matplotlib\n"
       ]
      },
      {
       "output_type": "stream",
       "stream": "stderr",
       "text": [
        "WARNING: pylab import has clobbered these variables: ['plot', 'f']\n",
        "`%pylab --no-import-all` prevents importing * from pylab and numpy\n"
       ]
      }
     ],
     "prompt_number": 104
    },
    {
     "cell_type": "code",
     "collapsed": false,
     "input": [
      "# Insert filename here\n",
      "#filename = '/Users/jgoldberg/Documents/Berkeley/Millisystems_Lab/python_test_scripts/2014.02.03_17.54.06_trial_imudata.txt'\n",
      "#filename = 'Z:\\\\research\\\\development\\\\telemetry\\\\2014.05.05_16.52.05_trial_imudata.txt'\n",
      "filename = \"2014.08.01_16.14.57_trial8_imudata.txt\"\n",
      "print filename"
     ],
     "language": "python",
     "metadata": {},
     "outputs": [
      {
       "output_type": "stream",
       "stream": "stdout",
       "text": [
        "2014.08.01_16.14.57_trial8_imudata.txt\n"
       ]
      }
     ],
     "prompt_number": 141
    },
    {
     "cell_type": "code",
     "collapsed": false,
     "input": [
      "!dir"
     ],
     "language": "python",
     "metadata": {},
     "outputs": [
      {
       "output_type": "stream",
       "stream": "stdout",
       "text": [
        " Volume in drive C is Windows7_OS\n",
        " Volume Serial Number is 24D9-9E5A\n",
        "\n",
        " Directory of C:\\Users\\Jessica Lee\\Documents\\Research\\Code\\roach\\python\\Data\n",
        "\n",
        "08/04/2014  01:32 PM    <DIR>          .\n",
        "08/04/2014  01:32 PM    <DIR>          ..\n",
        "05/21/2014  03:47 PM                15 .gitignore\n",
        "08/04/2014  01:32 PM    <DIR>          .ipynb_checkpoints\n",
        "07/24/2014  03:35 PM            34,198 2014.07.24_15.35.07_trial_imudata.txt\n",
        "08/01/2014  03:14 PM            40,863 2014.07.25_13.58.36_trial_imudata.txt\n",
        "08/01/2014  03:58 PM           243,868 2014.08.01_15.56.53_trial_imudata.txt\n",
        "08/01/2014  03:57 PM               440 2014.08.01_15.56.53_trial_inAir_imudata.txt\n",
        "08/01/2014  03:59 PM               440 2014.08.01_15.59.02_trial1_imudata.txt\n",
        "08/01/2014  04:01 PM           170,932 2014.08.01_15.59.02_trial2_imudata.txt\n",
        "08/01/2014  04:03 PM               439 2014.08.01_16.03.30_trial3_imudata.txt\n",
        "08/01/2014  04:06 PM           173,334 2014.08.01_16.04.57_trial4_imudata.txt\n",
        "08/01/2014  04:09 PM            86,492 2014.08.01_16.08.41_trial5_imudata.txt\n",
        "08/01/2014  04:11 PM            86,097 2014.08.01_16.09.38_trial6_imudata.txt\n",
        "08/01/2014  04:14 PM            86,758 2014.08.01_16.14.30_trial7_imudata.txt\n",
        "08/01/2014  04:15 PM            86,614 2014.08.01_16.14.57_trial8_imudata.txt\n",
        "08/01/2014  04:18 PM            86,732 2014.08.01_16.18.33_trial9_imudata.txt\n",
        "08/01/2014  04:20 PM            86,387 2014.08.01_16.19.01_trial10_imudata.txt\n",
        "08/01/2014  04:20 PM            86,932 2014.08.01_16.20.17_trial11_imudata.txt\n",
        "08/01/2014  04:21 PM            87,030 2014.08.01_16.21.03_trial12_imudata.txt\n",
        "08/01/2014  04:22 PM            86,793 2014.08.01_16.21.26_trial13_imudata.txt\n",
        "08/01/2014  04:22 PM            72,621 2014.08.01_16.22.33_trial14_imudata.txt\n",
        "08/01/2014  04:24 PM            55,536 2014.08.01_16.24.04_trial15_imudata.txt\n",
        "08/01/2014  04:24 PM            82,884 2014.08.01_16.24.23_trial16_imudata.txt\n",
        "08/01/2014  03:26 PM             3,148 importVRTelem.m\n",
        "08/01/2014  04:36 PM                36 ipy_here.bat\n",
        "08/04/2014  01:41 PM           209,934 telemetry_plotter.ipynb\n",
        "              24 File(s)      1,868,523 bytes\n",
        "               3 Dir(s)  221,375,324,160 bytes free\n"
       ]
      }
     ],
     "prompt_number": 142
    },
    {
     "cell_type": "code",
     "collapsed": false,
     "input": [
      "lines[0]"
     ],
     "language": "python",
     "metadata": {},
     "outputs": [
      {
       "metadata": {},
       "output_type": "pyout",
       "prompt_number": 148,
       "text": [
        "'\"Data file recorded 2014/8/1  16:15:31\"\\n'"
       ]
      }
     ],
     "prompt_number": 148
    },
    {
     "cell_type": "code",
     "collapsed": false,
     "input": [
      "d"
     ],
     "language": "python",
     "metadata": {},
     "outputs": [
      {
       "metadata": {},
       "output_type": "pyout",
       "prompt_number": 147,
       "text": [
        "['\"Data', 'file', 'recorded', '2014/8/1', '16:15:31\"']"
       ]
      }
     ],
     "prompt_number": 147
    },
    {
     "cell_type": "code",
     "collapsed": false,
     "input": [
      "# Read in the file\n",
      "f = open(filename)\n",
      "lines = f.readlines()\n",
      "f.close()\n",
      "# Time and Date stamps of trial\n",
      "dateStamp = lines[0].split()[3]\n",
      "timeStamp = lines[0].split()[4][:-1]\n",
      "\n",
      "# Stride Frequency R,L\n",
      "rightStrideFreq = float(lines[1].split()[5][:-1])\n",
      "leftStrideFreq = float(lines[2].split()[5][:-1])\n",
      "\n",
      "# Phase (fractional)\n",
      "phaseFractional = float(lines[3].split()[4][:-1])\n",
      "\n",
      "# Script that generated data\n",
      "script = lines[4].split()[1]\n",
      "\n",
      "# Motor Gains\n",
      "motorGains = map(float, lines[5][lines[5].find('[')+1:lines[5].find(']')].replace(',','').split())\n",
      "\n",
      "# test data read\n",
      "#print 'lines[8:15]', lines[8:15]\n",
      "\n",
      "# Data splitting\n",
      "columnHeaders = lines[7].replace(\"\\\"% \",\"\").replace(\" \\\"\\r\\n\",\"\").split(' | ')\n",
      "columns = len(columnHeaders)\n",
      "rows = len(lines)-8\n",
      "# unix: data = np.reshape(map(float,\"\".join(lines[8:]).replace('\\r\\n',',')[:-1].split(',')),(rows,columns))\n",
      "# windows\n",
      "data = np.reshape(map(float,\"\".join(lines[8:]).replace('\\n',',')[:-1].split(',')),(rows,columns))\n",
      "\n",
      "# Timestamps\n",
      "time = data[:,0]/1000.0\n",
      "\n",
      "# Leg Position R,L\n",
      "rightLegPos = data[:,1]*legScale\n",
      "leftLegPos = data[:,2]*legScale\n",
      "\n",
      "# Commanded Leg Position R,L\n",
      "commandedRightLegPos = data[:,3]*legScale\n",
      "commandedLeftLegPos = data[:,4]*legScale\n",
      "\n",
      "# Duty Cycle R,L\n",
      "#DCR = -data[:,5]/4000.0\n",
      "#DCL = -data[:,6]/4000.0\n",
      "#DCR[DCR < -4000.0] = -4000.0\n",
      "#DCL[DCL < -4000.0] = -4000.0\n",
      "# raw 12 bit PWM value. Max = 3900.\n",
      "DCR = data[:,5]\n",
      "DCL = data[:,6]\n",
      "\n",
      "# Gyro X,Y,Z\n",
      "GyroX = data[:,7]*gyroScale\n",
      "GyroY = data[:,8]*gyroScale\n",
      "GyroZ = data[:,9]*gyroScale\n",
      "\n",
      "# Accelerometer X,Y,Z\n",
      "AX = data[:,10]*xlScale\n",
      "AY = data[:,11]*xlScale\n",
      "AZ = data[:,12]*xlScale\n",
      "\n",
      "# BackEMF R,L\n",
      "# A/D data is 10 bits, Vref+ = AVdd = 3.3V, VRef- = AVss = 0.0V\n",
      "# BEMF volts = (15K)/(47K) * Vm + vref/2 - pidObjs[i].inputOffset\n",
      "#RBEMF = -data[:,13]*vdivide*vref/1023.0\n",
      "#LBEMF = -data[:,14]*vdivide*vref/1023.0\n",
      "RBEMF = data[:,13]*vref/1024.0/vgain  # scale A/D to 0 to 3.3 V range and undo diff amp gain\n",
      "LBEMF = data[:,14]*vref/1024/vgain\n",
      "\n",
      "# Battery Voltage in volts\n",
      "VBatt = data[:,15]*vdivide*vref/1023.0\n",
      "\n",
      "# Motor Voltage, R,L\n",
      "VMotorR = VBatt*DCR\n",
      "VMotorL = VBatt*DCL"
     ],
     "language": "python",
     "metadata": {},
     "outputs": [
      {
       "ename": "ValueError",
       "evalue": "invalid literal for float(): 1800 200 100 0 0 1800 200 100 0 0",
       "output_type": "pyerr",
       "traceback": [
        "\u001b[1;31m---------------------------------------------------------------------------\u001b[0m\n\u001b[1;31mValueError\u001b[0m                                Traceback (most recent call last)",
        "\u001b[1;32m<ipython-input-150-7c7f5b3ae65b>\u001b[0m in \u001b[0;36m<module>\u001b[1;34m()\u001b[0m\n\u001b[0;32m     18\u001b[0m \u001b[1;33m\u001b[0m\u001b[0m\n\u001b[0;32m     19\u001b[0m \u001b[1;31m# Motor Gains\u001b[0m\u001b[1;33m\u001b[0m\u001b[1;33m\u001b[0m\u001b[0m\n\u001b[1;32m---> 20\u001b[1;33m \u001b[0mmotorGains\u001b[0m \u001b[1;33m=\u001b[0m \u001b[0mmap\u001b[0m\u001b[1;33m(\u001b[0m\u001b[0mfloat\u001b[0m\u001b[1;33m,\u001b[0m \u001b[0mlines\u001b[0m\u001b[1;33m[\u001b[0m\u001b[1;36m5\u001b[0m\u001b[1;33m]\u001b[0m\u001b[1;33m[\u001b[0m\u001b[0mlines\u001b[0m\u001b[1;33m[\u001b[0m\u001b[1;36m5\u001b[0m\u001b[1;33m]\u001b[0m\u001b[1;33m.\u001b[0m\u001b[0mfind\u001b[0m\u001b[1;33m(\u001b[0m\u001b[1;34m'['\u001b[0m\u001b[1;33m)\u001b[0m\u001b[1;33m+\u001b[0m\u001b[1;36m1\u001b[0m\u001b[1;33m:\u001b[0m\u001b[0mlines\u001b[0m\u001b[1;33m[\u001b[0m\u001b[1;36m5\u001b[0m\u001b[1;33m]\u001b[0m\u001b[1;33m.\u001b[0m\u001b[0mfind\u001b[0m\u001b[1;33m(\u001b[0m\u001b[1;34m']'\u001b[0m\u001b[1;33m)\u001b[0m\u001b[1;33m]\u001b[0m\u001b[1;33m.\u001b[0m\u001b[0mreplace\u001b[0m\u001b[1;33m(\u001b[0m\u001b[1;34m','\u001b[0m\u001b[1;33m,\u001b[0m\u001b[1;34m''\u001b[0m\u001b[1;33m)\u001b[0m\u001b[1;33m.\u001b[0m\u001b[0msplit\u001b[0m\u001b[1;33m(\u001b[0m\u001b[1;34m','\u001b[0m\u001b[1;33m)\u001b[0m\u001b[1;33m)\u001b[0m\u001b[1;33m\u001b[0m\u001b[0m\n\u001b[0m\u001b[0;32m     21\u001b[0m \u001b[1;33m\u001b[0m\u001b[0m\n\u001b[0;32m     22\u001b[0m \u001b[1;31m# test data read\u001b[0m\u001b[1;33m\u001b[0m\u001b[1;33m\u001b[0m\u001b[0m\n",
        "\u001b[1;31mValueError\u001b[0m: invalid literal for float(): 1800 200 100 0 0 1800 200 100 0 0"
       ]
      }
     ],
     "prompt_number": 150
    },
    {
     "cell_type": "code",
     "collapsed": false,
     "input": [
      "fig = figure(figsize = (length,width))\n",
      "\n",
      "\n",
      "# gyro data\n",
      "plot.subplot(3,2,1)\n",
      "plot.plot(time,GyroX,'k--')\n",
      "plot.plot(time,GyroY, 'g.')\n",
      "plot.plot(time,GyroZ, 'b')\n",
      "xlabel('time [ms]')\n",
      "ylabel('Gyro rad/s')\n",
      "legend(['X', 'Y', 'Z'])\n",
      "\n",
      "# actual and commanded leg position\n",
      "plot.subplot(3,2,2)\n",
      "plot.plot(time,rightLegPos,'k')\n",
      "plot.plot(time,leftLegPos,'b--')\n",
      "plot.plot(time,commandedRightLegPos)\n",
      "plot.plot(time,commandedLeftLegPos)\n",
      "xlabel('time [ms]')\n",
      "ylabel('Leg Position')\n",
      "legend(['RPos','LPos','Rref','Lref'])\n",
      "\n",
      "# accelerometer data\n",
      "plot.subplot(3,2,3)\n",
      "plot.plot(time,AX,'k--')\n",
      "plot.plot(time,AY,'g.')\n",
      "plot.plot(time,AZ,'b')\n",
      "xlabel('time [ms]')\n",
      "ylabel('Accel $ m s^{-2}$')\n",
      "legend(['X', 'Y', 'Z'])\n",
      "\n",
      "#back EMF\n",
      "plot.subplot(3,2,4)\n",
      "plot.plot(time,RBEMF,'k')\n",
      "plot.plot(time,LBEMF,'b--')\n",
      "xlabel('time [ms]')\n",
      "ylabel('Back EMF (V)')\n",
      "legend(['Right', 'Left'])\n",
      "ax = fig.add_subplot(3,2,4)\n",
      "ax.axhline(linewidth=1, color='m')\n",
      "\n",
      "# Motor PWM \n",
      "plot.subplot(3,2,5)\n",
      "plot.plot(time,DCR,'k')\n",
      "plot.plot(time,DCL,'b--')\n",
      "xlabel('time [ms]')\n",
      "ylabel('Duty Cycle')\n",
      "legend(['Right', 'Left'])\n",
      "ax = fig.add_subplot(3,2,5)\n",
      "ax.axhline(linewidth=1, color='m')\n",
      "\n",
      "#battery voltage\n",
      "plot.subplot(3,2,6)\n",
      "plot.plot(time,VBatt)\n",
      "xlabel('time [ms]')\n",
      "ylabel('Battery Voltage (V)')"
     ],
     "language": "python",
     "metadata": {},
     "outputs": []
    },
    {
     "cell_type": "code",
     "collapsed": false,
     "input": [],
     "language": "python",
     "metadata": {},
     "outputs": []
    },
    {
     "cell_type": "code",
     "collapsed": false,
     "input": [],
     "language": "python",
     "metadata": {},
     "outputs": []
    },
    {
     "cell_type": "code",
     "collapsed": false,
     "input": [],
     "language": "python",
     "metadata": {},
     "outputs": []
    }
   ],
   "metadata": {}
  }
 ]
}